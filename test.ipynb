{
 "cells": [
  {
   "cell_type": "code",
   "execution_count": 3,
   "metadata": {
    "pycharm": {
     "name": "#%%\n"
    }
   },
   "outputs": [
    {
     "name": "stdout",
     "output_type": "stream",
     "text": [
      "********************\n",
      "ERROR CODE: 2001.\n",
      ">>>ERR: The Program meet a data transform length error.\n",
      "Your input data dim is: 11,the program need data dim is 10\n",
      "********************\n"
     ]
    }
   ],
   "source": [
    "from ProjectException.DataException import DataInputSizeError\n",
    "\n",
    "length1 = 10\n",
    "length2 = 11\n",
    "msg = \"aa\"\n",
    "\n",
    "DataInputSizeError().exceptionProcess(length1, length2)\n"
   ]
  },
  {
   "cell_type": "code",
   "execution_count": null,
   "metadata": {},
   "outputs": [],
   "source": []
  },
  {
   "cell_type": "code",
   "execution_count": null,
   "metadata": {},
   "outputs": [],
   "source": []
  }
 ],
 "metadata": {
  "kernelspec": {
   "display_name": "Python 3",
   "language": "python",
   "name": "python3"
  },
  "language_info": {
   "codemirror_mode": {
    "name": "ipython",
    "version": 3
   },
   "file_extension": ".py",
   "mimetype": "text/x-python",
   "name": "python",
   "nbconvert_exporter": "python",
   "pygments_lexer": "ipython3",
   "version": "3.7.5"
  }
 },
 "nbformat": 4,
 "nbformat_minor": 1
}